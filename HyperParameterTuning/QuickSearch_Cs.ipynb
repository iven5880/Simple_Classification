{
 "cells": [
  {
   "cell_type": "code",
   "execution_count": 304,
   "metadata": {
    "collapsed": true
   },
   "outputs": [],
   "source": [
    "%reset -f\n",
    "# Load libraries\n",
    "from sklearn import linear_model, datasets\n",
    "\n",
    "# Load data\n",
    "iris = datasets.load_iris()\n",
    "X = iris.data\n",
    "y = iris.target"
   ]
  },
  {
   "cell_type": "code",
   "execution_count": 305,
   "metadata": {
    "collapsed": true
   },
   "outputs": [],
   "source": [
    "# cross-validated LogisticRegression\n",
    "\n",
    "cList = []\n",
    "for k in [0.0001, 0.001, 0.01, 0.1, 1.0, 10.0, 100.0, 1000.0, 10000.0]:\n",
    "    for j in [1,1.25,2.5,3.75,5,6.25,7.5,8.75]:\n",
    "        cList.append(j*k)\n",
    "\n",
    "intModel = linear_model.LogisticRegressionCV(Cs=100, multi_class='multinomial', cv=5)\n",
    "listModel = linear_model.LogisticRegressionCV(Cs=cList, multi_class='multinomial', cv=5)\n",
    "regModel = linear_model.LogisticRegressionCV(multi_class='multinomial', cv=5)"
   ]
  },
  {
   "cell_type": "code",
   "execution_count": 306,
   "metadata": {},
   "outputs": [
    {
     "name": "stdout",
     "output_type": "stream",
     "text": [
      "intModel: 0.986666666667\n",
      "listModel: 0.986666666667\n",
      "regModel: 0.98\n"
     ]
    }
   ],
   "source": [
    "intModel.fit(X,y)\n",
    "yp = intModel.predict(X)\n",
    "print 'intModel:', 1.0*sum(y==yp)/y.shape[0]\n",
    "\n",
    "listModel.fit(X,y)\n",
    "yp = listModel.predict(X)\n",
    "print 'listModel:', 1.0*sum(y==yp)/y.shape[0]\n",
    "\n",
    "regModel.fit(X,y)\n",
    "yp = regModel.predict(X)\n",
    "print 'regModel:', 1.0*sum(y==yp)/y.shape[0]"
   ]
  },
  {
   "cell_type": "code",
   "execution_count": 307,
   "metadata": {},
   "outputs": [
    {
     "data": {
      "text/plain": [
       "array([ 5.85702082,  5.85702082,  5.85702082])"
      ]
     },
     "execution_count": 307,
     "metadata": {},
     "output_type": "execute_result"
    }
   ],
   "source": [
    "intModel.C_"
   ]
  },
  {
   "cell_type": "code",
   "execution_count": 308,
   "metadata": {},
   "outputs": [
    {
     "data": {
      "text/plain": [
       "array([ 6.25,  6.25,  6.25])"
      ]
     },
     "execution_count": 308,
     "metadata": {},
     "output_type": "execute_result"
    }
   ],
   "source": [
    "listModel.C_"
   ]
  },
  {
   "cell_type": "code",
   "execution_count": 309,
   "metadata": {},
   "outputs": [
    {
     "data": {
      "text/plain": [
       "array([ 21.5443469,  21.5443469,  21.5443469])"
      ]
     },
     "execution_count": 309,
     "metadata": {},
     "output_type": "execute_result"
    }
   ],
   "source": [
    "regModel.C_"
   ]
  },
  {
   "cell_type": "code",
   "execution_count": 310,
   "metadata": {},
   "outputs": [
    {
     "name": "stdout",
     "output_type": "stream",
     "text": [
      "thisModel: 0.986666666667\n"
     ]
    }
   ],
   "source": [
    "# regular LogisticRegression (no cross-validation)\n",
    "\n",
    "thisModel = linear_model.LogisticRegression(C=100., multi_class='multinomial', solver='lbfgs')\n",
    "thisModel.fit(X,y)\n",
    "yp = thisModel.predict(X)\n",
    "print 'thisModel:', 1.0*sum(yp==y)/y.shape[0]"
   ]
  },
  {
   "cell_type": "code",
   "execution_count": 311,
   "metadata": {},
   "outputs": [
    {
     "data": {
      "text/plain": [
       "100.0"
      ]
     },
     "execution_count": 311,
     "metadata": {},
     "output_type": "execute_result"
    }
   ],
   "source": [
    "thisModel.C"
   ]
  },
  {
   "cell_type": "code",
   "execution_count": 312,
   "metadata": {},
   "outputs": [
    {
     "name": "stdout",
     "output_type": "stream",
     "text": [
      "C = 0.0001:\t0.7\n",
      "C = 0.000125:\t0.7\n",
      "C = 0.00025:\t0.713333333333\n",
      "C = 0.000375:\t0.713333333333\n",
      "C = 0.0005:\t0.733333333333\n",
      "C = 0.000625:\t0.733333333333\n",
      "C = 0.00075:\t0.733333333333\n",
      "C = 0.000875:\t0.74\n",
      "C = 0.001:\t0.753333333333\n",
      "C = 0.00125:\t0.76\n",
      "C = 0.0025:\t0.793333333333\n",
      "C = 0.00375:\t0.813333333333\n",
      "C = 0.005:\t0.84\n",
      "C = 0.00625:\t0.86\n",
      "C = 0.0075:\t0.86\n",
      "C = 0.00875:\t0.873333333333\n",
      "C = 0.01:\t0.873333333333\n",
      "C = 0.0125:\t0.886666666667\n",
      "C = 0.025:\t0.933333333333\n",
      "C = 0.0375:\t0.933333333333\n",
      "C = 0.05:\t0.94\n",
      "C = 0.0625:\t0.953333333333\n",
      "C = 0.075:\t0.96\n",
      "C = 0.0875:\t0.96\n",
      "C = 0.1:\t0.96\n",
      "C = 0.125:\t0.96\n",
      "C = 0.25:\t0.966666666667\n",
      "C = 0.375:\t0.966666666667\n",
      "C = 0.5:\t0.966666666667\n",
      "C = 0.625:\t0.973333333333\n",
      "C = 0.75:\t0.973333333333\n",
      "C = 0.875:\t0.973333333333\n",
      "C = 1.0:\t0.973333333333\n",
      "C = 1.25:\t0.98\n",
      "C = 2.5:\t0.986666666667\n",
      "C = 3.75:\t0.986666666667\n",
      "C = 5.0:\t0.986666666667\n",
      "C = 6.25:\t0.986666666667\n",
      "C = 7.5:\t0.98\n",
      "C = 8.75:\t0.98\n",
      "C = 10.0:\t0.98\n",
      "C = 12.5:\t0.98\n",
      "C = 25.0:\t0.98\n",
      "C = 37.5:\t0.98\n",
      "C = 50.0:\t0.98\n",
      "C = 62.5:\t0.98\n",
      "C = 75.0:\t0.98\n",
      "C = 87.5:\t0.98\n",
      "C = 100.0:\t0.986666666667\n",
      "C = 125.0:\t0.986666666667\n",
      "C = 250.0:\t0.986666666667\n",
      "C = 375.0:\t0.986666666667\n",
      "C = 500.0:\t0.986666666667\n",
      "C = 625.0:\t0.986666666667\n",
      "C = 750.0:\t0.986666666667\n",
      "C = 875.0:\t0.986666666667\n",
      "C = 1000.0:\t0.986666666667\n",
      "C = 1250.0:\t0.986666666667\n",
      "C = 2500.0:\t0.986666666667\n",
      "C = 3750.0:\t0.986666666667\n",
      "C = 5000.0:\t0.986666666667\n",
      "C = 6250.0:\t0.986666666667\n",
      "C = 7500.0:\t0.986666666667\n",
      "C = 8750.0:\t0.986666666667\n",
      "C = 10000.0:\t0.986666666667\n",
      "C = 12500.0:\t0.986666666667\n",
      "C = 25000.0:\t0.986666666667\n",
      "C = 37500.0:\t0.986666666667\n",
      "C = 50000.0:\t0.986666666667\n",
      "C = 62500.0:\t0.986666666667\n",
      "C = 75000.0:\t0.986666666667\n",
      "C = 87500.0:\t0.986666666667\n"
     ]
    },
    {
     "data": {
      "image/png": "[encoded data removed]",
      "text/plain": [
       "<matplotlib.figure.Figure at 0x115703750>"
      ]
     },
     "metadata": {},
     "output_type": "display_data"
    }
   ],
   "source": [
    "%matplotlib inline\n",
    "import matplotlib.pyplot as plt\n",
    "import seaborn\n",
    "from math import log10\n",
    "\n",
    "empList = []\n",
    "\n",
    "for k in [0.0001, 0.001, 0.01, 0.1, 1.0, 10.0, 100.0, 1000.0, 10000.0]:\n",
    "    \n",
    "    for j in [1,1.25,2.5,3.75,5,6.25,7.5,8.75]:\n",
    "        m = j*k\n",
    "        thisModel = linear_model.LogisticRegression(C=m, multi_class='multinomial', solver='lbfgs')\n",
    "        thisModel.fit(X,y)\n",
    "        yp = thisModel.predict(X)\n",
    "        accr = 1.0*sum(yp==y)/y.shape[0]\n",
    "        print 'C = ' + str(m) + ':\\t', accr\n",
    "        empList.append((m,accr))\n",
    "\n",
    "plt.figure(figsize=(12,8))\n",
    "plt.plot([log10(i[0]) for i in empList], [i[1] for i in empList], '.')\n",
    "plt.show()"
   ]
  },
  {
   "cell_type": "code",
   "execution_count": null,
   "metadata": {
    "collapsed": true
   },
   "outputs": [],
   "source": []
  }
 ],
 "metadata": {
  "kernelspec": {
   "display_name": "Python 2",
   "language": "python",
   "name": "python2"
  },
  "language_info": {
   "codemirror_mode": {
    "name": "ipython",
    "version": 2
   },
   "file_extension": ".py",
   "mimetype": "text/x-python",
   "name": "python",
   "nbconvert_exporter": "python",
   "pygments_lexer": "ipython2",
   "version": "2.7.13"
  }
 },
 "nbformat": 4,
 "nbformat_minor": 2
}
