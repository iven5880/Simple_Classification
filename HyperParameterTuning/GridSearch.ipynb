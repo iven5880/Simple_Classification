{
 "cells": [
  {
   "cell_type": "code",
   "execution_count": 155,
   "metadata": {
    "collapsed": true
   },
   "outputs": [],
   "source": [
    "%reset -f\n",
    "\n",
    "%matplotlib inline\n",
    "import matplotlib.pyplot as plt\n",
    "import numpy as np\n",
    "from sklearn import linear_model, datasets\n",
    "from sklearn.model_selection import GridSearchCV"
   ]
  },
  {
   "cell_type": "code",
   "execution_count": 156,
   "metadata": {
    "collapsed": true
   },
   "outputs": [],
   "source": [
    "iris = datasets.load_iris()\n",
    "X = iris.data\n",
    "y = iris.target"
   ]
  },
  {
   "cell_type": "code",
   "execution_count": 157,
   "metadata": {
    "collapsed": true
   },
   "outputs": [],
   "source": [
    "logistic = linear_model.LogisticRegression()"
   ]
  },
  {
   "cell_type": "code",
   "execution_count": 158,
   "metadata": {
    "collapsed": true
   },
   "outputs": [],
   "source": [
    "cList = []\n",
    "for k in [0.0001, 0.001, 0.01, 0.1, 1.0, 10.0, 100.0, 1000.0, 10000.0]:\n",
    "    for j in [1,1.25,2.5,3.75,5,6.25,7.5,8.75]:\n",
    "        cList.append(j*k)"
   ]
  },
  {
   "cell_type": "code",
   "execution_count": 159,
   "metadata": {
    "collapsed": true
   },
   "outputs": [],
   "source": [
    "# Create regularization penalty space\n",
    "penalty = ['l1', 'l2']\n",
    "\n",
    "# Create regularization hyperparameter space\n",
    "C = np.logspace(-4., 4., 100)\n",
    "\n",
    "# Create hyperparameter options\n",
    "# hyperparameters = dict(C=C, penalty=penalty)\n",
    "hyperparameters = dict(C=cList, penalty=penalty)"
   ]
  },
  {
   "cell_type": "code",
   "execution_count": 160,
   "metadata": {
    "collapsed": true
   },
   "outputs": [],
   "source": [
    "clf = GridSearchCV(logistic, hyperparameters, cv=5, verbose=1)"
   ]
  },
  {
   "cell_type": "code",
   "execution_count": 161,
   "metadata": {},
   "outputs": [
    {
     "name": "stdout",
     "output_type": "stream",
     "text": [
      "Fitting 5 folds for each of 144 candidates, totalling 720 fits\n"
     ]
    },
    {
     "name": "stderr",
     "output_type": "stream",
     "text": [
      "[Parallel(n_jobs=1)]: Done 720 out of 720 | elapsed:    4.4s finished\n"
     ]
    }
   ],
   "source": [
    "best_model = clf.fit(X, y)"
   ]
  },
  {
   "cell_type": "code",
   "execution_count": 162,
   "metadata": {},
   "outputs": [
    {
     "name": "stdout",
     "output_type": "stream",
     "text": [
      "('Best Penalty:', 'l1')\n",
      "('Best C:', 6.25)\n"
     ]
    }
   ],
   "source": [
    "print('Best Penalty:', best_model.best_estimator_.get_params()['penalty'])\n",
    "print('Best C:', best_model.best_estimator_.get_params()['C'])"
   ]
  },
  {
   "cell_type": "code",
   "execution_count": 163,
   "metadata": {
    "collapsed": true
   },
   "outputs": [],
   "source": [
    "yp = best_model.predict(X)"
   ]
  },
  {
   "cell_type": "code",
   "execution_count": 164,
   "metadata": {},
   "outputs": [
    {
     "data": {
      "text/plain": [
       "0.98"
      ]
     },
     "execution_count": 164,
     "metadata": {},
     "output_type": "execute_result"
    }
   ],
   "source": [
    "1.0*sum(yp==y)/y.shape[0]"
   ]
  },
  {
   "cell_type": "code",
   "execution_count": 166,
   "metadata": {},
   "outputs": [
    {
     "data": {
      "text/plain": [
       "{'C': [0.0001,\n",
       "  0.000125,\n",
       "  0.00025,\n",
       "  0.000375,\n",
       "  0.0005,\n",
       "  0.000625,\n",
       "  0.00075,\n",
       "  0.000875,\n",
       "  0.001,\n",
       "  0.00125,\n",
       "  0.0025,\n",
       "  0.00375,\n",
       "  0.005,\n",
       "  0.00625,\n",
       "  0.0075,\n",
       "  0.00875,\n",
       "  0.01,\n",
       "  0.0125,\n",
       "  0.025,\n",
       "  0.0375,\n",
       "  0.05,\n",
       "  0.0625,\n",
       "  0.075,\n",
       "  0.08750000000000001,\n",
       "  0.1,\n",
       "  0.125,\n",
       "  0.25,\n",
       "  0.375,\n",
       "  0.5,\n",
       "  0.625,\n",
       "  0.75,\n",
       "  0.875,\n",
       "  1.0,\n",
       "  1.25,\n",
       "  2.5,\n",
       "  3.75,\n",
       "  5.0,\n",
       "  6.25,\n",
       "  7.5,\n",
       "  8.75,\n",
       "  10.0,\n",
       "  12.5,\n",
       "  25.0,\n",
       "  37.5,\n",
       "  50.0,\n",
       "  62.5,\n",
       "  75.0,\n",
       "  87.5,\n",
       "  100.0,\n",
       "  125.0,\n",
       "  250.0,\n",
       "  375.0,\n",
       "  500.0,\n",
       "  625.0,\n",
       "  750.0,\n",
       "  875.0,\n",
       "  1000.0,\n",
       "  1250.0,\n",
       "  2500.0,\n",
       "  3750.0,\n",
       "  5000.0,\n",
       "  6250.0,\n",
       "  7500.0,\n",
       "  8750.0,\n",
       "  10000.0,\n",
       "  12500.0,\n",
       "  25000.0,\n",
       "  37500.0,\n",
       "  50000.0,\n",
       "  62500.0,\n",
       "  75000.0,\n",
       "  87500.0],\n",
       " 'penalty': ['l1', 'l2']}"
      ]
     },
     "execution_count": 166,
     "metadata": {},
     "output_type": "execute_result"
    }
   ],
   "source": [
    "clf.param_grid"
   ]
  },
  {
   "cell_type": "code",
   "execution_count": null,
   "metadata": {
    "collapsed": true
   },
   "outputs": [],
   "source": []
  }
 ],
 "metadata": {
  "kernelspec": {
   "display_name": "Python 2",
   "language": "python",
   "name": "python2"
  },
  "language_info": {
   "codemirror_mode": {
    "name": "ipython",
    "version": 2
   },
   "file_extension": ".py",
   "mimetype": "text/x-python",
   "name": "python",
   "nbconvert_exporter": "python",
   "pygments_lexer": "ipython2",
   "version": "2.7.13"
  }
 },
 "nbformat": 4,
 "nbformat_minor": 2
}
