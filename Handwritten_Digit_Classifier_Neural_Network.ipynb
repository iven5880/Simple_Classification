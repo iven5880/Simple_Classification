{
 "cells": [
  {
   "cell_type": "markdown",
   "metadata": {},
   "source": [
    "## Training a Neural Network for Handwritten Digit Recognition\n",
    "\n",
    "Given 5000 training examples of handwritten digits (500 examples each of digits 0-9), I train a Neural Network to recognize handwritten digits.\n",
    "The data is split between training and cross-validation sets. The accuracy of the trained model is evaluated using the cross-validation set.\n",
    "\n",
    "The Neural Network is developed using Keras."
   ]
  },
  {
   "cell_type": "code",
   "execution_count": 8,
   "metadata": {
    "collapsed": false
   },
   "outputs": [],
   "source": [
    "import numpy as np\n",
    "# import pandas as pd\n",
    "from keras.models import Sequential\n",
    "from keras.layers import Dense\n",
    "\n",
    "from sklearn.preprocessing import LabelBinarizer"
   ]
  },
  {
   "cell_type": "code",
   "execution_count": 9,
   "metadata": {
    "collapsed": false
   },
   "outputs": [],
   "source": [
    "# load features and labels from text files\n",
    "X = np.loadtxt('X.txt', delimiter=',')\n",
    "y = np.loadtxt('y.txt', delimiter=',')\n",
    "\n",
    "# randomize training examples (rows)\n",
    "numRows = np.shape(X)[0]\n",
    "theNewRows = np.random.choice(range(numRows), numRows, replace=False)\n",
    "X = X[theNewRows,:]\n",
    "y = y[theNewRows,]\n",
    "\n",
    "# binarize the labels\n",
    "labBin = LabelBinarizer(sparse_output=False)\n",
    "y = labBin.fit_transform(y)\n",
    "\n",
    "theSplit = int(0.8 * numRows)\n",
    "\n",
    "X_train = X[:theSplit,:]\n",
    "X_test = X[theSplit:,:]\n",
    "y_train = y[:theSplit,:]\n",
    "y_test = y[theSplit:,:]"
   ]
  },
  {
   "cell_type": "code",
   "execution_count": 10,
   "metadata": {
    "collapsed": false
   },
   "outputs": [
    {
     "name": "stdout",
     "output_type": "stream",
     "text": [
      "Epoch 1/50\n",
      "4000/4000 [==============================] - 0s - loss: 1.1666 - acc: 0.6280     \n",
      "Epoch 2/50\n",
      "4000/4000 [==============================] - 0s - loss: 0.5043 - acc: 0.8512     \n",
      "Epoch 3/50\n",
      "4000/4000 [==============================] - 0s - loss: 0.4005 - acc: 0.8840     \n",
      "Epoch 4/50\n",
      "4000/4000 [==============================] - 0s - loss: 0.3374 - acc: 0.9037     \n",
      "Epoch 5/50\n",
      "4000/4000 [==============================] - 0s - loss: 0.3111 - acc: 0.9062     \n",
      "Epoch 6/50\n",
      "4000/4000 [==============================] - 0s - loss: 0.2775 - acc: 0.9170     \n",
      "Epoch 7/50\n",
      "4000/4000 [==============================] - 0s - loss: 0.2520 - acc: 0.9265     \n",
      "Epoch 8/50\n",
      "4000/4000 [==============================] - 0s - loss: 0.2211 - acc: 0.9372     \n",
      "Epoch 9/50\n",
      "4000/4000 [==============================] - 0s - loss: 0.2002 - acc: 0.9410     \n",
      "Epoch 10/50\n",
      "4000/4000 [==============================] - 0s - loss: 0.1829 - acc: 0.9457     \n",
      "Epoch 11/50\n",
      "4000/4000 [==============================] - 0s - loss: 0.1615 - acc: 0.9542     \n",
      "Epoch 12/50\n",
      "4000/4000 [==============================] - 0s - loss: 0.1454 - acc: 0.9587     \n",
      "Epoch 13/50\n",
      "4000/4000 [==============================] - 0s - loss: 0.1332 - acc: 0.9620     \n",
      "Epoch 14/50\n",
      "4000/4000 [==============================] - 0s - loss: 0.1214 - acc: 0.9650     \n",
      "Epoch 15/50\n",
      "4000/4000 [==============================] - 0s - loss: 0.1089 - acc: 0.9677     \n",
      "Epoch 16/50\n",
      "4000/4000 [==============================] - 0s - loss: 0.0955 - acc: 0.9722     \n",
      "Epoch 17/50\n",
      "4000/4000 [==============================] - 0s - loss: 0.0856 - acc: 0.9752     \n",
      "Epoch 18/50\n",
      "4000/4000 [==============================] - 0s - loss: 0.0785 - acc: 0.9782     \n",
      "Epoch 19/50\n",
      "4000/4000 [==============================] - 0s - loss: 0.0672 - acc: 0.9817     \n",
      "Epoch 20/50\n",
      "4000/4000 [==============================] - 0s - loss: 0.0649 - acc: 0.9812     \n",
      "Epoch 21/50\n",
      "4000/4000 [==============================] - 0s - loss: 0.0586 - acc: 0.9847     \n",
      "Epoch 22/50\n",
      "4000/4000 [==============================] - 0s - loss: 0.0504 - acc: 0.9852     \n",
      "Epoch 23/50\n",
      "4000/4000 [==============================] - 0s - loss: 0.0439 - acc: 0.9900     \n",
      "Epoch 24/50\n",
      "4000/4000 [==============================] - 0s - loss: 0.0354 - acc: 0.9917     \n",
      "Epoch 25/50\n",
      "4000/4000 [==============================] - 0s - loss: 0.0368 - acc: 0.9917     \n",
      "Epoch 26/50\n",
      "4000/4000 [==============================] - 0s - loss: 0.0326 - acc: 0.9920     \n",
      "Epoch 27/50\n",
      "4000/4000 [==============================] - 0s - loss: 0.0189 - acc: 0.9970     \n",
      "Epoch 28/50\n",
      "4000/4000 [==============================] - 0s - loss: 0.0372 - acc: 0.9895     \n",
      "Epoch 29/50\n",
      "4000/4000 [==============================] - 0s - loss: 0.0197 - acc: 0.9962     \n",
      "Epoch 30/50\n",
      "4000/4000 [==============================] - 0s - loss: 0.0140 - acc: 0.9980     \n",
      "Epoch 31/50\n",
      "4000/4000 [==============================] - 0s - loss: 0.0175 - acc: 0.9965     \n",
      "Epoch 32/50\n",
      "4000/4000 [==============================] - 0s - loss: 0.0132 - acc: 0.9977     \n",
      "Epoch 33/50\n",
      "4000/4000 [==============================] - 0s - loss: 0.0121 - acc: 0.9970     \n",
      "Epoch 34/50\n",
      "4000/4000 [==============================] - 0s - loss: 0.0218 - acc: 0.9932     \n",
      "Epoch 35/50\n",
      "4000/4000 [==============================] - 0s - loss: 0.0114 - acc: 0.9970     \n",
      "Epoch 36/50\n",
      "4000/4000 [==============================] - 0s - loss: 0.0038 - acc: 0.9997     \n",
      "Epoch 37/50\n",
      "4000/4000 [==============================] - 0s - loss: 0.0034 - acc: 1.0000     \n",
      "Epoch 38/50\n",
      "4000/4000 [==============================] - 0s - loss: 0.0031 - acc: 0.9995     \n",
      "Epoch 39/50\n",
      "4000/4000 [==============================] - 0s - loss: 0.0037 - acc: 0.9997     \n",
      "Epoch 40/50\n",
      "4000/4000 [==============================] - 0s - loss: 0.0016 - acc: 1.0000     \n",
      "Epoch 41/50\n",
      "4000/4000 [==============================] - 0s - loss: 0.0012 - acc: 1.0000     \n",
      "Epoch 42/50\n",
      "4000/4000 [==============================] - 0s - loss: 8.5229e-04 - acc: 1.0000     \n",
      "Epoch 43/50\n",
      "4000/4000 [==============================] - 0s - loss: 8.2431e-04 - acc: 1.0000     \n",
      "Epoch 44/50\n",
      "4000/4000 [==============================] - 0s - loss: 6.9920e-04 - acc: 1.0000     \n",
      "Epoch 45/50\n",
      "4000/4000 [==============================] - 0s - loss: 7.0358e-04 - acc: 1.0000     \n",
      "Epoch 46/50\n",
      "4000/4000 [==============================] - 0s - loss: 0.0458 - acc: 0.9882     \n",
      "Epoch 47/50\n",
      "4000/4000 [==============================] - 0s - loss: 0.0424 - acc: 0.9847     \n",
      "Epoch 48/50\n",
      "4000/4000 [==============================] - 0s - loss: 0.0083 - acc: 0.9975     \n",
      "Epoch 49/50\n",
      "4000/4000 [==============================] - 0s - loss: 0.0016 - acc: 1.0000     \n",
      "Epoch 50/50\n",
      "4000/4000 [==============================] - 0s - loss: 8.7397e-04 - acc: 1.0000     \n"
     ]
    },
    {
     "data": {
      "text/plain": [
       "<keras.callbacks.History at 0x11265d090>"
      ]
     },
     "execution_count": 10,
     "metadata": {},
     "output_type": "execute_result"
    }
   ],
   "source": [
    "# create the layers of the model\n",
    "inputLayerSize = np.shape(X)[1]\n",
    "hiddenLayerSize = 50\n",
    "model = Sequential()\n",
    "\n",
    "model.add(Dense(hiddenLayerSize, input_dim=inputLayerSize, init='uniform', activation='relu'))\n",
    "model.add(Dense(hiddenLayerSize, init='uniform', activation='relu'))\n",
    "model.add(Dense(10, init='uniform', activation='sigmoid'))\n",
    "\n",
    "# configure the model\n",
    "model.compile(loss='categorical_crossentropy', optimizer='adam', metrics=['accuracy'])\n",
    "\n",
    "# train the model\n",
    "model.fit(X_train, y_train, nb_epoch=50, batch_size=10, verbose=True)"
   ]
  },
  {
   "cell_type": "code",
   "execution_count": 11,
   "metadata": {
    "collapsed": false
   },
   "outputs": [
    {
     "name": "stdout",
     "output_type": "stream",
     "text": [
      "Prediction Accuracy:  94.78 %\n"
     ]
    }
   ],
   "source": [
    "yp = model.predict(X_test)\n",
    "yp = np.round(yp)\n",
    "\n",
    "print 'Prediction Accuracy: ', 100.0*np.sum(yp == y_test)/np.size(y_test), '%'"
   ]
  }
 ],
 "metadata": {
  "kernelspec": {
   "display_name": "Python 2",
   "language": "python",
   "name": "python2"
  },
  "language_info": {
   "codemirror_mode": {
    "name": "ipython",
    "version": 2
   },
   "file_extension": ".py",
   "mimetype": "text/x-python",
   "name": "python",
   "nbconvert_exporter": "python",
   "pygments_lexer": "ipython2",
   "version": "2.7.11"
  }
 },
 "nbformat": 4,
 "nbformat_minor": 0
}
