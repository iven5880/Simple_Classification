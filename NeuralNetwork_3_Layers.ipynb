{
 "cells": [
  {
   "cell_type": "code",
   "execution_count": null,
   "metadata": {
    "collapsed": true
   },
   "outputs": [],
   "source": [
    "import numpy as np\n",
    "\n",
    "# training set\n",
    "X = np.random.randint(0,2,size=(100,3))\n",
    "y = np.where(np.sum(X,1)>=2,1,0)\n",
    "y.shape=(np.size(X,0),1)\n",
    "\n",
    "# *************************\n",
    "\n",
    "# test set\n",
    "Xt = np.random.randint(0,2,size=(1000,3))\n",
    "yt = np.where(np.sum(Xt,1)>=2,1,0)\n",
    "yt.shape=(np.size(Xt,0),1)\n"
   ]
  },
  {
   "cell_type": "code",
   "execution_count": null,
   "metadata": {
    "collapsed": true
   },
   "outputs": [],
   "source": [
    "n0=3 # number of features in input layer\n",
    "n1=4 # number of features in first hidden layer\n",
    "n2=4 # number of features in second hidden layer\n",
    "n3=1 # number of features in output layer\n",
    "\n",
    "# weights\n",
    "syn0 = 2*np.random.random((n0,n1)) - 1\n",
    "syn1 = 2*np.random.random((n1,n2)) - 1\n",
    "syn2 = 2*np.random.random((n2,n3)) - 1\n",
    "\n",
    "# train the network\n",
    "for j in xrange(1000):\n",
    "    l1 = 1/(1+np.exp(-(np.dot(X,syn0))))\n",
    "    l2 = 1/(1+np.exp(-(np.dot(l1,syn1))))\n",
    "    l3 = 1/(1+np.exp(-(np.dot(l2,syn2))))\n",
    "    l3_delta = (y - l3)*(l3*(1-l3))\n",
    "    l2_delta = l3_delta.dot(syn2.T) * (l2 * (1-l2))\n",
    "    l1_delta = l2_delta.dot(syn1.T) * (l1 * (1-l1))\n",
    "    syn2 += l2.T.dot(l3_delta)\n",
    "    syn1 += l1.T.dot(l2_delta)\n",
    "    syn0 += X.T.dot(l1_delta)"
   ]
  },
  {
   "cell_type": "code",
   "execution_count": null,
   "metadata": {
    "collapsed": false
   },
   "outputs": [],
   "source": [
    "# evaluate the algorithm\n",
    "\n",
    "trainAccuracy = 100*(1 - np.sum(np.abs(y - np.round(l3)))/np.size(l3,0))\n",
    "\n",
    "print\n",
    "print 'Accuracy of the training set: ', trainAccuracy, '%'\n",
    "print\n",
    "\n",
    "# try the trained parameters on the test set\n",
    "l1t = 1/(1+np.exp(-(np.dot(Xt,syn0))))\n",
    "l2t = 1/(1+np.exp(-(np.dot(l1t,syn1))))\n",
    "l3t = 1/(1+np.exp(-(np.dot(l2t,syn2))))\n",
    "\n",
    "testAccuracy = 100*(1 - np.sum(np.abs(yt - np.round(l3t)))/np.size(l3t,0))\n",
    "\n",
    "print 'Accuracy of the test set', testAccuracy, '%'\n",
    "print"
   ]
  },
  {
   "cell_type": "code",
   "execution_count": null,
   "metadata": {
    "collapsed": true
   },
   "outputs": [],
   "source": []
  }
 ],
 "metadata": {
  "kernelspec": {
   "display_name": "Python 2",
   "language": "python",
   "name": "python2"
  },
  "language_info": {
   "codemirror_mode": {
    "name": "ipython",
    "version": 2
   },
   "file_extension": ".py",
   "mimetype": "text/x-python",
   "name": "python",
   "nbconvert_exporter": "python",
   "pygments_lexer": "ipython2",
   "version": "2.7.11"
  }
 },
 "nbformat": 4,
 "nbformat_minor": 0
}
