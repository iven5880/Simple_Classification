{
 "cells": [
  {
   "cell_type": "code",
   "execution_count": 1,
   "metadata": {
    "collapsed": true
   },
   "outputs": [],
   "source": [
    "%matplotlib inline\n",
    "import matplotlib.pyplot as plt\n",
    "import seaborn as sns\n",
    "import numpy as np"
   ]
  },
  {
   "cell_type": "code",
   "execution_count": 2,
   "metadata": {
    "collapsed": false
   },
   "outputs": [],
   "source": [
    "theSample = np.random.randn(100,1) # sample drawn from the normal distribution\n",
    "theSample.shape = np.shape(theSample)[0]\n",
    "\n",
    "# theSample = np.random.rand(100,1) # sample drawn from the uniform distribution [0.0, 1.0]\n",
    "# theSample.shape = np.shape(theSample)[0]\n",
    "\n",
    "# theSample = np.random.randint(0,11,(1000,1)) # sample drawn from the uniform distribution [0, 10]\n",
    "# theSample.shape = np.shape(theSample)[0]"
   ]
  },
  {
   "cell_type": "code",
   "execution_count": 3,
   "metadata": {
    "collapsed": false
   },
   "outputs": [
    {
     "data": {
      "text/plain": [
       "0.98636395842589142"
      ]
     },
     "execution_count": 3,
     "metadata": {},
     "output_type": "execute_result"
    }
   ],
   "source": [
    "theBoot = []\n",
    "\n",
    "for i in range(100000):\n",
    "    toAppendMean = np.random.choice(theSample, replace=True, size = theSample.shape[0])\n",
    "#     theBoot.append(np.mean(toAppendMean))\n",
    "    theBoot.append(np.std(toAppendMean))\n",
    "    \n",
    "np.mean(theBoot)"
   ]
  },
  {
   "cell_type": "code",
   "execution_count": 4,
   "metadata": {
    "collapsed": false
   },
   "outputs": [
    {
     "data": {
      "image/png": "[encoded data removed]",
      "text/plain": [
       "<matplotlib.figure.Figure at 0x114c784d0>"
      ]
     },
     "metadata": {},
     "output_type": "display_data"
    }
   ],
   "source": [
    "plt.figure(figsize = [8,6])\n",
    "plt.hist(theBoot, bins = 200)\n",
    "plt.show()"
   ]
  }
 ],
 "metadata": {
  "kernelspec": {
   "display_name": "Python 2",
   "language": "python",
   "name": "python2"
  },
  "language_info": {
   "codemirror_mode": {
    "name": "ipython",
    "version": 2
   },
   "file_extension": ".py",
   "mimetype": "text/x-python",
   "name": "python",
   "nbconvert_exporter": "python",
   "pygments_lexer": "ipython2",
   "version": "2.7.11"
  }
 },
 "nbformat": 4,
 "nbformat_minor": 0
}
