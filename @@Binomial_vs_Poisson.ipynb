{
 "cells": [
  {
   "cell_type": "code",
   "execution_count": 24,
   "metadata": {
    "collapsed": true
   },
   "outputs": [],
   "source": [
    "%matplotlib inline\n",
    "import matplotlib.pyplot as plt\n",
    "import seaborn\n",
    "import random\n",
    "import numpy as np"
   ]
  },
  {
   "cell_type": "markdown",
   "metadata": {},
   "source": [
    "<font size=4> <b>Binomial Distribution:</b><br>Probability distribution that describes the outcome of <i><b>n</b></i> <u>identical</u> Bernoulli trials each with a probability of success <i><b>p</b></i>\n",
    "\n",
    "<i><br><br>Example: <br>Suppose I take a test of 10 multiple choice problems each with 5 answer options (and only one option is correct), what is the probability that I will get exactly 4 questions right just by guessing ?</i>\n",
    "\n",
    "</font>"
   ]
  },
  {
   "cell_type": "code",
   "execution_count": 25,
   "metadata": {
    "collapsed": true
   },
   "outputs": [],
   "source": [
    "# number of Binomial tests to run (where each test consists of \"n\" Bernoulli trials)\n",
    "numSamples = 1000000\n",
    "\n",
    "# number of Bernoulli trials \"n\" (i.e. the 10 problems)\n",
    "trials_per_sample = 10\n",
    "\n",
    "# target number of successful guesses\n",
    "numSuccesses = 4\n",
    "\n",
    "# probability of success at each guess\n",
    "numOptions = 5\n",
    "numCorrectAnswers = 1\n",
    "p = 1.0*numCorrectAnswers/numOptions"
   ]
  },
  {
   "cell_type": "code",
   "execution_count": 26,
   "metadata": {
    "collapsed": true
   },
   "outputs": [],
   "source": [
    "# this function returns the number of successes for each Binomial test\n",
    "def run_sample(trials_per_sample):\n",
    "    numSuccess = 0\n",
    "    for i in range(trials_per_sample):\n",
    "        thisAnswer = random.randint(1,numOptions) # the correct answer to the current problem\n",
    "        thisGuess = random.randint(1,numOptions) # my guess for the current problem\n",
    "        if thisAnswer == thisGuess: # if my guess is correct...SUCCESS !!!\n",
    "            numSuccess += 1\n",
    "    return numSuccess\n",
    "\n",
    "# this function returns the factorial of an integer passed to it\n",
    "def factorial(n):\n",
    "    if n==0:\n",
    "        return 1\n",
    "    else:\n",
    "        return reduce(lambda x,y:x*y,range(1,n+1))"
   ]
  },
  {
   "cell_type": "code",
   "execution_count": 27,
   "metadata": {
    "collapsed": false
   },
   "outputs": [
    {
     "name": "stdout",
     "output_type": "stream",
     "text": [
      "Sampled probability (1000000 samples): 0.088044\n",
      "Theoretical probability: 0.088080384\n"
     ]
    }
   ],
   "source": [
    "# this list holds the results (where each result is the number of successes in each Binomial test)\n",
    "result = []\n",
    "\n",
    "# run several Binomial tests and save the results\n",
    "for i in range(numSamples):\n",
    "    result.append(run_sample(trials_per_sample))\n",
    "\n",
    "# probability obtained from the sampling\n",
    "n = trials_per_sample\n",
    "k = numSuccesses\n",
    "print 'Sampled probability (' + str(numSamples) + ' samples):', 1.0*sum([i==k for i in result])/numSamples\n",
    "\n",
    "# calculate the theoretical probability (using the binomial PDF)\n",
    "n = trials_per_sample\n",
    "k = numSuccesses\n",
    "theoretical_Prob = (p**k)*((1-p)**(n-k))*factorial(n)/(factorial(k)*factorial(n-k))\n",
    "print 'Theoretical probability:', theoretical_Prob"
   ]
  },
  {
   "cell_type": "code",
   "execution_count": 28,
   "metadata": {
    "collapsed": false
   },
   "outputs": [
    {
     "data": {
      "image/png": "[encoded data removed]",
      "text/plain": [
       "<matplotlib.figure.Figure at 0x1183d35d0>"
      ]
     },
     "metadata": {},
     "output_type": "display_data"
    }
   ],
   "source": [
    "# plot a histogram that shows the distribution the number of successes over all Binomial tests\n",
    "plt.figure(figsize=[12,8])\n",
    "plt.hist(result, bins=[n-0.5 for n in range(trials_per_sample)]) # shift the bins by -0.5 to center the bars\n",
    "plt.xlim([-0.5,trials_per_sample+0.5])\n",
    "plt.xticks(range(trials_per_sample+1))\n",
    "plt.show()"
   ]
  },
  {
   "cell_type": "code",
   "execution_count": 29,
   "metadata": {
    "collapsed": false
   },
   "outputs": [
    {
     "name": "stdout",
     "output_type": "stream",
     "text": [
      "Probability of guessing 0 answers right: 0.107435\n",
      "Probability of guessing 1 answers right: 0.268764\n",
      "Probability of guessing 2 answers right: 0.301632\n",
      "Probability of guessing 3 answers right: 0.201166\n",
      "Probability of guessing 4 answers right: 0.088044\n",
      "Probability of guessing 5 answers right: 0.026521\n",
      "Probability of guessing 6 answers right: 0.005628\n",
      "Probability of guessing 7 answers right: 0.000746\n",
      "Probability of guessing 8 answers right: 5.9e-05\n",
      "Probability of guessing 9 answers right: 5e-06\n",
      "Probability of guessing 10 answers right: 0.0\n"
     ]
    }
   ],
   "source": [
    "for j in range(trials_per_sample+1):\n",
    "    print 'Probability of guessing ' + str(j) + ' answers right:', 1.0*sum([i==j for i in result])/numSamples"
   ]
  },
  {
   "cell_type": "markdown",
   "metadata": {},
   "source": [
    "<br><br><br><font size=4> <b>Poisson Distribution:</b><br>Probability distribution that describes the outcome of an independent event that occurs at a known rate ($\\lambda$ times over a specified time interval)\n",
    "\n",
    "<i><br><br>Example: <br>Suppose a car-wash has an average of 2 cars come by every 3 minutes, what is the probability that no more than 4 cars will come by in the next 9 minutes ?</i>\n",
    "\n",
    "</font>"
   ]
  },
  {
   "cell_type": "code",
   "execution_count": 30,
   "metadata": {
    "collapsed": true
   },
   "outputs": [],
   "source": [
    "# 2 cars every 3 minutes is the same rate as 6 cars every 9 minutes (540 seconds)\n",
    "# so I think of each trial as equivalent to 540 distinct and independent events of which\n",
    "# 6 are successful (on the average)\n",
    "\n",
    "# number of trials\n",
    "numSamp = 100000\n",
    "\n",
    "# holds the result of each trial\n",
    "thisList = []\n",
    "\n",
    "sampSize = 540 # sample size for each trial (540 seconds)\n",
    "rate_lambda = 6 # succesful event occurence rate (6 cars every 540 seconds)\n",
    "sampRange = sampSize+1 # range of randints to sample from (i.e. [1,sampRange])\n",
    "\n",
    "target_success = 4 # number of successful events we're trying to estimate a probability for (<=4 cars in 9 minutes)\n",
    "\n",
    "# sample 540 random integers from 1 to 540\n",
    "# the probability of finding a value less_than_or_equal_to 6 is = \"6/540\"\n",
    "for i in range(numSamp):\n",
    "    aa = np.random.randint(1,sampRange,[sampSize,])\n",
    "    aa[aa>rate_lambda]=0 # disqualify all randints greater than 6...\n",
    "    aa[aa!=0] = 1 # and keep only those <= 6...\n",
    "    thisList.append(sum(aa)) # then append the number of successful outcomes for each trial to the list"
   ]
  },
  {
   "cell_type": "code",
   "execution_count": 31,
   "metadata": {
    "collapsed": false
   },
   "outputs": [
    {
     "name": "stdout",
     "output_type": "stream",
     "text": [
      "Probability of having no more than 4 cars pass thru in 9 minutes...\n",
      "\n",
      "Sampled (100000 samples): 0.28446\n",
      "Theoretical: 0.285056500317\n"
     ]
    }
   ],
   "source": [
    "print 'Probability of having no more than 4 cars pass thru in 9 minutes...\\n'\n",
    "\n",
    "bb = np.array(thisList) # convert the list to an array for easy manipulation by Numpy\n",
    "theProbability = 1.0*sum(bb<=4)/len(bb) # how many of those samples had an outcome <= 4 cars\n",
    "print 'Sampled (' + str(numSamp) + ' samples):', theProbability\n",
    "\n",
    "calcProb = 0\n",
    "for i in range(target_success+1):\n",
    "    calcProb += (rate_lambda**i)*np.exp(-rate_lambda)/(factorial(i))\n",
    "    \n",
    "print 'Theoretical:', calcProb"
   ]
  },
  {
   "cell_type": "code",
   "execution_count": 32,
   "metadata": {
    "collapsed": false
   },
   "outputs": [
    {
     "data": {
      "image/png": "[encoded data removed]",
      "text/plain": [
       "<matplotlib.figure.Figure at 0x11b489e50>"
      ]
     },
     "metadata": {},
     "output_type": "display_data"
    }
   ],
   "source": [
    "#plot a histrogram of the distribution of successful outcomes over all trials\n",
    "numBins = 30\n",
    "plt.figure(figsize=[18,12])\n",
    "plt.hist(thisList, bins=[n-0.5 for n in range(numBins)]) # shift the bins by -0.5 to center the bars\n",
    "plt.xlim([-0.5,numBins+0.5])\n",
    "plt.xticks(range(numBins+1))\n",
    "plt.show()"
   ]
  },
  {
   "cell_type": "code",
   "execution_count": null,
   "metadata": {
    "collapsed": true
   },
   "outputs": [],
   "source": []
  }
 ],
 "metadata": {
  "kernelspec": {
   "display_name": "Python 2",
   "language": "python",
   "name": "python2"
  },
  "language_info": {
   "codemirror_mode": {
    "name": "ipython",
    "version": 2
   },
   "file_extension": ".py",
   "mimetype": "text/x-python",
   "name": "python",
   "nbconvert_exporter": "python",
   "pygments_lexer": "ipython2",
   "version": "2.7.11"
  }
 },
 "nbformat": 4,
 "nbformat_minor": 0
}
