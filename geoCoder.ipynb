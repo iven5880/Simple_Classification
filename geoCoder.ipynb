{
 "cells": [
  {
   "cell_type": "code",
   "execution_count": 1,
   "metadata": {
    "collapsed": true
   },
   "outputs": [],
   "source": [
    "from pygeocoder import Geocoder\n",
    "import numpy as np\n",
    "import pandas as pd"
   ]
  },
  {
   "cell_type": "code",
   "execution_count": 6,
   "metadata": {},
   "outputs": [],
   "source": [
    "# theAddress = \"2902 3rd Place, Lubbock, TX\"\n",
    "\n",
    "# geoCodedAddress = Geocoder.geocode(theAddress)\n",
    "\n",
    "# if geoCodedAddress.valid_address:\n",
    "#     print 'Longitude: ', geoCodedAddress.coordinates[0]\n",
    "#     print 'Latitude: ', geoCodedAddress.coordinates[1]\n",
    "#     print\n",
    "#     print 'Street Number: ', geoCodedAddress.street_number\n",
    "#     print 'Street: ', geoCodedAddress.route\n",
    "#     print 'City: ', geoCodedAddress.city\n",
    "#     print 'State: ', geoCodedAddress.state\n",
    "#     print 'Country: ', geoCodedAddress.country"
   ]
  },
  {
   "cell_type": "code",
   "execution_count": 7,
   "metadata": {},
   "outputs": [
    {
     "name": "stdout",
     "output_type": "stream",
     "text": [
      "Longitude:  45.5296323\n",
      "Latitude:  -122.9180809\n",
      "\n",
      "Street Number:  6134\n",
      "Street:  Northeast Alder Street\n",
      "City:  Hillsboro\n",
      "State:  Oregon\n",
      "Country:  United States\n"
     ]
    }
   ],
   "source": [
    "theAddress = \"6134 NE Alder Street, Hillsboro, OR\"\n",
    "\n",
    "geoCodedAddress = Geocoder.geocode(theAddress)\n",
    "\n",
    "if geoCodedAddress.valid_address:\n",
    "    print 'Longitude: ', geoCodedAddress.coordinates[0]\n",
    "    print 'Latitude: ', geoCodedAddress.coordinates[1]\n",
    "    print\n",
    "    print 'Street Number: ', geoCodedAddress.street_number\n",
    "    print 'Street: ', geoCodedAddress.route\n",
    "    print 'City: ', geoCodedAddress.city\n",
    "    print 'State: ', geoCodedAddress.state\n",
    "    print 'Country: ', geoCodedAddress.country"
   ]
  },
  {
   "cell_type": "code",
   "execution_count": 8,
   "metadata": {},
   "outputs": [
    {
     "name": "stdout",
     "output_type": "stream",
     "text": [
      "6134 NE Alder St, Hillsboro, OR 97124, USA\n",
      "Orenco Gardens, Hillsboro, OR 97124, USA\n",
      "Hillsboro, OR, USA\n",
      "Hillsboro, OR 97124, USA\n",
      "Washington County, OR, USA\n",
      "Portland Metropolitan Area, USA\n",
      "Oregon, USA\n",
      "United States\n"
     ]
    }
   ],
   "source": [
    "for i in Geocoder.reverse_geocode(geoCodedAddress.coordinates[0], geoCodedAddress.coordinates[1]):\n",
    "    print i"
   ]
  },
  {
   "cell_type": "code",
   "execution_count": 11,
   "metadata": {},
   "outputs": [
    {
     "name": "stdout",
     "output_type": "stream",
     "text": [
      "Unnamed Road, Lakeview, OR 97630, USA\n",
      "Lakeview, OR 97630, USA\n",
      "Lake County, OR, USA\n",
      "Oregon, USA\n",
      "United States\n"
     ]
    }
   ],
   "source": [
    "for i in Geocoder.reverse_geocode(43, -120):\n",
    "    print i"
   ]
  },
  {
   "cell_type": "code",
   "execution_count": 12,
   "metadata": {},
   "outputs": [
    {
     "name": "stdout",
     "output_type": "stream",
     "text": [
      "Coordinates:  (6.4579939, 7.508963499999998)\n",
      "\n",
      "1 John Nwodo Close, GRA, Enugu, Nigeria\n",
      "Otigba Junction Bus Stop, Ogui Rd, New Haven, Enugu, Nigeria\n",
      "GRA, Enugu, Nigeria\n",
      "Enugu, Nigeria\n",
      "China Town, Nigeria\n",
      "Enugu North, Nigeria\n",
      "Enugu, Nigeria\n",
      "Nigeria\n"
     ]
    }
   ],
   "source": [
    "geoCodedAddress = Geocoder.geocode(\"2 John Nwodo Close\")\n",
    "print 'Coordinates: ', geoCodedAddress.coordinates\n",
    "print\n",
    "\n",
    "for i in Geocoder.reverse_geocode(geoCodedAddress.coordinates[0], geoCodedAddress.coordinates[1]):\n",
    "    print i"
   ]
  },
  {
   "cell_type": "code",
   "execution_count": 14,
   "metadata": {},
   "outputs": [
    {
     "data": {
      "text/html": [
       "<div>\n",
       "<table border=\"1\" class=\"dataframe\">\n",
       "  <thead>\n",
       "    <tr style=\"text-align: right;\">\n",
       "      <th></th>\n",
       "      <th>Location</th>\n",
       "      <th>Longitude</th>\n",
       "      <th>Latitude</th>\n",
       "    </tr>\n",
       "  </thead>\n",
       "  <tbody>\n",
       "    <tr>\n",
       "      <th>0</th>\n",
       "      <td>Fairbanks, AK</td>\n",
       "      <td>64.837778</td>\n",
       "      <td>-147.716389</td>\n",
       "    </tr>\n",
       "    <tr>\n",
       "      <th>1</th>\n",
       "      <td>Reno, NV</td>\n",
       "      <td>39.529633</td>\n",
       "      <td>-119.813803</td>\n",
       "    </tr>\n",
       "    <tr>\n",
       "      <th>2</th>\n",
       "      <td>Buenos Aires</td>\n",
       "      <td>-34.603684</td>\n",
       "      <td>-58.381559</td>\n",
       "    </tr>\n",
       "    <tr>\n",
       "      <th>3</th>\n",
       "      <td>Melbourne, Australia</td>\n",
       "      <td>-37.813628</td>\n",
       "      <td>144.963058</td>\n",
       "    </tr>\n",
       "    <tr>\n",
       "      <th>4</th>\n",
       "      <td>Lagos, Nigeria</td>\n",
       "      <td>6.524379</td>\n",
       "      <td>3.379206</td>\n",
       "    </tr>\n",
       "    <tr>\n",
       "      <th>5</th>\n",
       "      <td>Munich, Germany</td>\n",
       "      <td>48.135125</td>\n",
       "      <td>11.581981</td>\n",
       "    </tr>\n",
       "    <tr>\n",
       "      <th>6</th>\n",
       "      <td>Mumbai, India</td>\n",
       "      <td>19.075984</td>\n",
       "      <td>72.877656</td>\n",
       "    </tr>\n",
       "    <tr>\n",
       "      <th>7</th>\n",
       "      <td>Beijing, China</td>\n",
       "      <td>39.904200</td>\n",
       "      <td>116.407396</td>\n",
       "    </tr>\n",
       "  </tbody>\n",
       "</table>\n",
       "</div>"
      ],
      "text/plain": [
       "               Location  Longitude    Latitude\n",
       "0         Fairbanks, AK  64.837778 -147.716389\n",
       "1              Reno, NV  39.529633 -119.813803\n",
       "2          Buenos Aires -34.603684  -58.381559\n",
       "3  Melbourne, Australia -37.813628  144.963058\n",
       "4        Lagos, Nigeria   6.524379    3.379206\n",
       "5       Munich, Germany  48.135125   11.581981\n",
       "6         Mumbai, India  19.075984   72.877656\n",
       "7        Beijing, China  39.904200  116.407396"
      ]
     },
     "execution_count": 14,
     "metadata": {},
     "output_type": "execute_result"
    }
   ],
   "source": [
    "theLocations = ['Fairbanks, AK', 'Reno, NV', 'Buenos Aires', 'Melbourne, Australia', 'Lagos, Nigeria', 'Munich, Germany', 'Mumbai, India', 'Beijing, China']\n",
    "\n",
    "theLongs = []\n",
    "theLats = []\n",
    "for i in theLocations:\n",
    "    geoCodedAddress = Geocoder.geocode(i)\n",
    "    theLongs.append(geoCodedAddress.coordinates[0])\n",
    "    theLats.append(geoCodedAddress.coordinates[1])\n",
    "\n",
    "df = pd.DataFrame(columns=['Location', 'Longitude', 'Latitude'])\n",
    "df.Location = theLocations\n",
    "df['Longitude'] = theLongs\n",
    "df['Latitude'] = theLats\n",
    "df.to_csv('World_Locations.csv')\n",
    "df"
   ]
  },
  {
   "cell_type": "code",
   "execution_count": 16,
   "metadata": {},
   "outputs": [],
   "source": [
    "# theLocations = ['Fairbanks, AK', 'Reno, NV', 'Amarillo, TX', 'Fayetteville, AR', 'Ames, IA', 'Atlanta, GA', 'Chicago, IL', 'Baltimore, MD', 'Detroit, MI', 'Wyoming', 'Montana']\n",
    "\n",
    "# theLongs = []\n",
    "# theLats = []\n",
    "# for i in theLocations:\n",
    "#     geoCodedAddress = Geocoder.geocode(i)\n",
    "#     theLongs.append(geoCodedAddress.coordinates[0])\n",
    "#     theLats.append(geoCodedAddress.coordinates[1])\n",
    "\n",
    "# df = pd.DataFrame(columns=['Longitude', 'Latitude'])\n",
    "# df['Longitude'] = theLongs\n",
    "# df['Latitude'] = theLats\n",
    "# df.to_csv('US_Cities.csv')\n",
    "# df"
   ]
  },
  {
   "cell_type": "code",
   "execution_count": null,
   "metadata": {
    "collapsed": true
   },
   "outputs": [],
   "source": []
  }
 ],
 "metadata": {
  "kernelspec": {
   "display_name": "Python 2",
   "language": "python",
   "name": "python2"
  },
  "language_info": {
   "codemirror_mode": {
    "name": "ipython",
    "version": 2
   },
   "file_extension": ".py",
   "mimetype": "text/x-python",
   "name": "python",
   "nbconvert_exporter": "python",
   "pygments_lexer": "ipython2",
   "version": "2.7.13"
  }
 },
 "nbformat": 4,
 "nbformat_minor": 1
}
