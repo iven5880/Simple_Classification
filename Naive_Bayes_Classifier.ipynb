{
 "cells": [
  {
   "cell_type": "markdown",
   "metadata": {},
   "source": [
    "## The Naive Bayes Classifier\n",
    "\n",
    "This notebook explores the use of the Naive Bayes classifier on a binary classification problem.\n",
    "\n",
    "The dataset follows a very simple rule:\n",
    "* Given an Nx3 binary input matrix X and an Nx1 output vector y, if sum(X(m,:)) < 2 then y(m)=0 and y(m)=1 otherwise\n",
    "\n",
    "See [this link](http://machinelearningmastery.com/naive-bayes-tutorial-for-machine-learning/) for a simple intro to Naive Bayes for Machine Learning"
   ]
  },
  {
   "cell_type": "code",
   "execution_count": 1,
   "metadata": {
    "collapsed": true
   },
   "outputs": [],
   "source": [
    "import numpy as np\n",
    "from sklearn.naive_bayes import GaussianNB, MultinomialNB, BernoulliNB"
   ]
  },
  {
   "cell_type": "markdown",
   "metadata": {},
   "source": [
    "### Gaussian Naive Bayes"
   ]
  },
  {
   "cell_type": "code",
   "execution_count": 2,
   "metadata": {
    "collapsed": false
   },
   "outputs": [
    {
     "name": "stdout",
     "output_type": "stream",
     "text": [
      "Test Set Score: 100.0 %\n",
      "Test Set Class Priors:  [ 0.457  0.543]\n"
     ]
    }
   ],
   "source": [
    "N=1000 #number of training (and test) examples\n",
    "X_train = np.random.randint(0,2,(N,3))\n",
    "y_train = np.where(np.sum(X_train,1)<2, 0, 1)\n",
    "X_test = np.random.randint(0,2,(N,3))\n",
    "y_test = np.where(np.sum(X_test,1)<2, 0, 1)\n",
    "\n",
    "# use Gaussian Naive Bayes\n",
    "classifier = GaussianNB()\n",
    "classifier.fit(X_train, y_train)\n",
    "yp = classifier.predict(X_test)\n",
    "\n",
    "# classification score and priors\n",
    "print 'Test Set Score:', classifier.score(X_test, y_test)*100, '%'\n",
    "print 'Test Set Class Priors: ', classifier.class_prior_"
   ]
  },
  {
   "cell_type": "code",
   "execution_count": 3,
   "metadata": {
    "collapsed": false
   },
   "outputs": [
    {
     "name": "stdout",
     "output_type": "stream",
     "text": [
      "False Positives:  0\n",
      "False Negatives:  0\n",
      "True Positives:  513\n",
      "True Negatives:  487\n"
     ]
    }
   ],
   "source": [
    "# evaluate the inputs of the confusion matrix (directly)\n",
    "\n",
    "fp = np.sum((y_test==0) & (yp==1))\n",
    "fn = np.sum((y_test==1) & (yp==0))\n",
    "tp = np.sum((y_test==1) & (yp==1))\n",
    "tn = np.sum((y_test==0) & (yp==0))\n",
    "\n",
    "print 'False Positives: ', fp\n",
    "print 'False Negatives: ', fn\n",
    "print 'True Positives: ', tp\n",
    "print 'True Negatives: ', tn"
   ]
  },
  {
   "cell_type": "markdown",
   "metadata": {},
   "source": [
    "### Multinomial Naive Bayes"
   ]
  },
  {
   "cell_type": "code",
   "execution_count": 4,
   "metadata": {
    "collapsed": false
   },
   "outputs": [
    {
     "name": "stdout",
     "output_type": "stream",
     "text": [
      "Test Set Score: 63.5 %\n",
      "Test Set Class Priors:  None\n"
     ]
    }
   ],
   "source": [
    "N=1000 #number of training (and test) examples\n",
    "X_train = np.random.randint(0,2,(N,3))\n",
    "y_train = np.where(np.sum(X_train,1)<2, 0, 1)\n",
    "X_test = np.random.randint(0,2,(N,3))\n",
    "y_test = np.where(np.sum(X_test,1)<2, 0, 1)\n",
    "\n",
    "# use Multinomial Naive Bayes\n",
    "classifier = MultinomialNB()\n",
    "classifier.fit(X_train, y_train)\n",
    "yp = classifier.predict(X_test)\n",
    "\n",
    "# classification score and priors\n",
    "print 'Test Set Score:', classifier.score(X_test, y_test)*100, '%'\n",
    "print 'Test Set Class Priors: ', classifier.class_prior"
   ]
  },
  {
   "cell_type": "code",
   "execution_count": 5,
   "metadata": {
    "collapsed": false
   },
   "outputs": [
    {
     "name": "stdout",
     "output_type": "stream",
     "text": [
      "False Positives:  126\n",
      "False Negatives:  239\n",
      "True Positives:  244\n",
      "True Negatives:  391\n"
     ]
    }
   ],
   "source": [
    "# evaluate the inputs of the confusion matrix (directly)\n",
    "\n",
    "fp = np.sum((y_test==0) & (yp==1))\n",
    "fn = np.sum((y_test==1) & (yp==0))\n",
    "tp = np.sum((y_test==1) & (yp==1))\n",
    "tn = np.sum((y_test==0) & (yp==0))\n",
    "\n",
    "print 'False Positives: ', fp\n",
    "print 'False Negatives: ', fn\n",
    "print 'True Positives: ', tp\n",
    "print 'True Negatives: ', tn"
   ]
  },
  {
   "cell_type": "markdown",
   "metadata": {},
   "source": [
    "### Bernoulli Naive Bayes"
   ]
  },
  {
   "cell_type": "code",
   "execution_count": 6,
   "metadata": {
    "collapsed": false
   },
   "outputs": [
    {
     "name": "stdout",
     "output_type": "stream",
     "text": [
      "Test Set Score: 100.0 %\n",
      "Test Set Class Priors:  None\n"
     ]
    }
   ],
   "source": [
    "N=1000 #number of training (and test) examples\n",
    "X_train = np.random.randint(0,2,(N,3))\n",
    "y_train = np.where(np.sum(X_train,1)<2, 0, 1)\n",
    "X_test = np.random.randint(0,2,(N,3))\n",
    "y_test = np.where(np.sum(X_test,1)<2, 0, 1)\n",
    "\n",
    "# use Multinomial Naive Bayes\n",
    "classifier = BernoulliNB(fit_prior=True)\n",
    "classifier.fit(X_train, y_train)\n",
    "yp = classifier.predict(X_test)\n",
    "\n",
    "# classification score and priors\n",
    "print 'Test Set Score:', classifier.score(X_test, y_test)*100, '%'\n",
    "print 'Test Set Class Priors: ', classifier.class_prior"
   ]
  },
  {
   "cell_type": "code",
   "execution_count": 7,
   "metadata": {
    "collapsed": false
   },
   "outputs": [
    {
     "name": "stdout",
     "output_type": "stream",
     "text": [
      "False Positives:  0\n",
      "False Negatives:  0\n",
      "True Positives:  482\n",
      "True Negatives:  518\n"
     ]
    }
   ],
   "source": [
    "# evaluate the inputs of the confusion matrix (directly)\n",
    "\n",
    "fp = np.sum((y_test==0) & (yp==1))\n",
    "fn = np.sum((y_test==1) & (yp==0))\n",
    "tp = np.sum((y_test==1) & (yp==1))\n",
    "tn = np.sum((y_test==0) & (yp==0))\n",
    "\n",
    "print 'False Positives: ', fp\n",
    "print 'False Negatives: ', fn\n",
    "print 'True Positives: ', tp\n",
    "print 'True Negatives: ', tn"
   ]
  },
  {
   "cell_type": "code",
   "execution_count": null,
   "metadata": {
    "collapsed": true
   },
   "outputs": [],
   "source": []
  }
 ],
 "metadata": {
  "kernelspec": {
   "display_name": "Python 2",
   "language": "python",
   "name": "python2"
  },
  "language_info": {
   "codemirror_mode": {
    "name": "ipython",
    "version": 2
   },
   "file_extension": ".py",
   "mimetype": "text/x-python",
   "name": "python",
   "nbconvert_exporter": "python",
   "pygments_lexer": "ipython2",
   "version": "2.7.11"
  }
 },
 "nbformat": 4,
 "nbformat_minor": 0
}
