{
 "cells": [
  {
   "cell_type": "code",
   "execution_count": 32,
   "metadata": {
    "collapsed": true
   },
   "outputs": [],
   "source": [
    "%reset -f\n",
    "\n",
    "from PIL import Image\n",
    "\n",
    "import numpy as np\n",
    "\n",
    "import os\n",
    "os.system('rm guy_*'); # remove all existing images resulting from previous manipulations"
   ]
  },
  {
   "cell_type": "code",
   "execution_count": 33,
   "metadata": {},
   "outputs": [
    {
     "name": "stdout",
     "output_type": "stream",
     "text": [
      "The image is 466 by 411 pixels\n"
     ]
    }
   ],
   "source": [
    "im = Image.open('guy.jpg')\n",
    "pix = im.load()\n",
    "\n",
    "xp = im.size[0]\n",
    "yp = im.size[1]\n",
    "\n",
    "print 'The image is', xp, 'by', yp, 'pixels'"
   ]
  },
  {
   "cell_type": "code",
   "execution_count": 34,
   "metadata": {},
   "outputs": [
    {
     "name": "stdout",
     "output_type": "stream",
     "text": [
      "The RGB value of pixel [433, 177] is (195, 17, 17)\n"
     ]
    }
   ],
   "source": [
    "x = np.random.randint(xp)\n",
    "y = np.random.randint(yp)\n",
    "print 'The RGB value of pixel', [x,y], 'is', pix[x,y]"
   ]
  },
  {
   "cell_type": "code",
   "execution_count": 35,
   "metadata": {},
   "outputs": [
    {
     "name": "stdout",
     "output_type": "stream",
     "text": [
      "(208, 18, 20)\n"
     ]
    }
   ],
   "source": [
    "# make the center of the image all of a randomly selected color\n",
    "\n",
    "im = Image.open('guy.jpg')\n",
    "pix = im.load()\n",
    "\n",
    "xp = im.size[0]\n",
    "yp = im.size[1]\n",
    "\n",
    "xl = int(1.0*xp/4.0)\n",
    "xh = int(3.0*xp/4.0)\n",
    "         \n",
    "yl = int(1.0*yp/4.0)\n",
    "yh = int(3.0*yp/4.0)\n",
    "\n",
    "r1 = np.random.randint(256)\n",
    "r2 = np.random.randint(256)\n",
    "r3 = np.random.randint(256)\n",
    "\n",
    "for i in range(xl,xh):\n",
    "    for j in range(yl,yh):\n",
    "        pix[i,j] = (r1,r2,r3)\n",
    "\n",
    "im.save(\"guy_New_1.jpg\")\n",
    "\n",
    "# display the RGB value of a randomly chosen pixel\n",
    "rnd_x = np.random.randint(0,xp)\n",
    "rnd_y = np.random.randint(0,yp)\n",
    "print pix[rnd_x, rnd_y]"
   ]
  },
  {
   "cell_type": "code",
   "execution_count": 36,
   "metadata": {},
   "outputs": [
    {
     "name": "stdout",
     "output_type": "stream",
     "text": [
      "(61, 61, 61)\n"
     ]
    }
   ],
   "source": [
    "# each pixel has RGB values -----> rgb = [R_value, G_value, B_value]\n",
    "# assign the average of the RGB values to each pixel -----> rgb = [mean(rgb),mean(rgb),mean(rgb)]\n",
    "\n",
    "im = Image.open('guy.jpg')\n",
    "pix = im.load()\n",
    "\n",
    "xp = im.size[0]\n",
    "yp = im.size[1]\n",
    "\n",
    "for i in range(xp):\n",
    "    for j in range(yp):\n",
    "        tt = pix[i,j]\n",
    "        pv = sum(tt)/len(tt)\n",
    "        pix[i,j] = (pv, pv, pv)\n",
    "        \n",
    "im.save(\"guy_New_2.jpg\")\n",
    "\n",
    "# display the RGB value of a randomly chosen pixel\n",
    "rnd_x = np.random.randint(0,xp)\n",
    "rnd_y = np.random.randint(0,yp)\n",
    "print pix[rnd_x, rnd_y]"
   ]
  },
  {
   "cell_type": "code",
   "execution_count": 37,
   "metadata": {},
   "outputs": [
    {
     "name": "stdout",
     "output_type": "stream",
     "text": [
      "(95, 208, 243)\n"
     ]
    }
   ],
   "source": [
    "# create an image of randomly generated pixel values\n",
    "\n",
    "im = Image.open('guy.jpg')\n",
    "pix = im.load()\n",
    "\n",
    "xp = im.size[0]\n",
    "yp = im.size[1]\n",
    "\n",
    "for i in range(xp):\n",
    "    for j in range(yp):\n",
    "        pix[i,j] = (np.random.randint(256),np.random.randint(256),np.random.randint(256))\n",
    "        \n",
    "im.save('guy_New_3.jpg')\n",
    "\n",
    "# display the RGB value of a randomly chosen pixel\n",
    "rnd_x = np.random.randint(0,xp)\n",
    "rnd_y = np.random.randint(0,yp)\n",
    "print pix[rnd_x, rnd_y]"
   ]
  },
  {
   "cell_type": "code",
   "execution_count": null,
   "metadata": {
    "collapsed": true
   },
   "outputs": [],
   "source": []
  }
 ],
 "metadata": {
  "kernelspec": {
   "display_name": "Python 2",
   "language": "python",
   "name": "python2"
  },
  "language_info": {
   "codemirror_mode": {
    "name": "ipython",
    "version": 2
   },
   "file_extension": ".py",
   "mimetype": "text/x-python",
   "name": "python",
   "nbconvert_exporter": "python",
   "pygments_lexer": "ipython2",
   "version": "2.7.13"
  }
 },
 "nbformat": 4,
 "nbformat_minor": 2
}
